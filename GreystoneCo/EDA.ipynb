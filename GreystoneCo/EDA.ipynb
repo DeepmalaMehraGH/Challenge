{
 "cells": [
  {
   "cell_type": "code",
   "execution_count": 1,
   "metadata": {
    "collapsed": true
   },
   "outputs": [],
   "source": [
    "#Import the libraries\n",
    "import pandas as pd\n",
    "import numpy as np\n",
    "import matplotlib.pylab as plt\n",
    "import seaborn as sns\n",
    "import matplotlib.dates as mdates\n",
    "import scipy.stats as st\n",
    "from datetime import datetime\n",
    "%matplotlib inline "
   ]
  },
  {
   "cell_type": "code",
   "execution_count": 2,
   "metadata": {},
   "outputs": [
    {
     "data": {
      "text/html": [
       "<div>\n",
       "<style>\n",
       "    .dataframe thead tr:only-child th {\n",
       "        text-align: right;\n",
       "    }\n",
       "\n",
       "    .dataframe thead th {\n",
       "        text-align: left;\n",
       "    }\n",
       "\n",
       "    .dataframe tbody tr th {\n",
       "        vertical-align: top;\n",
       "    }\n",
       "</style>\n",
       "<table border=\"1\" class=\"dataframe\">\n",
       "  <thead>\n",
       "    <tr style=\"text-align: right;\">\n",
       "      <th></th>\n",
       "      <th>First Payment Date</th>\n",
       "      <th>Maturity Date</th>\n",
       "      <th>Loan Amount</th>\n",
       "      <th>Zip</th>\n",
       "      <th>Property Value</th>\n",
       "      <th>Year Built</th>\n",
       "      <th>Net Operating Income</th>\n",
       "      <th>Effective Gross Income</th>\n",
       "      <th>Total Operating Expenses</th>\n",
       "      <th>Maintenance Expense</th>\n",
       "      <th>Parking Expense</th>\n",
       "      <th>Taxes Expense</th>\n",
       "      <th>Insurance Expense</th>\n",
       "      <th>Utilities Expense</th>\n",
       "      <th>Payroll Expense</th>\n",
       "    </tr>\n",
       "  </thead>\n",
       "  <tbody>\n",
       "    <tr>\n",
       "      <th>0</th>\n",
       "      <td>2017-06-01</td>\n",
       "      <td>2022-05-01</td>\n",
       "      <td>2143864.02</td>\n",
       "      <td>60077.0</td>\n",
       "      <td>3003400.24</td>\n",
       "      <td>1965</td>\n",
       "      <td>153643.96</td>\n",
       "      <td>282027.80</td>\n",
       "      <td>125597.78</td>\n",
       "      <td>18793.51</td>\n",
       "      <td>4608.95</td>\n",
       "      <td>41580.76</td>\n",
       "      <td>9110.30</td>\n",
       "      <td>11233.91</td>\n",
       "      <td>12215.12</td>\n",
       "    </tr>\n",
       "    <tr>\n",
       "      <th>1</th>\n",
       "      <td>2017-06-01</td>\n",
       "      <td>2037-05-01</td>\n",
       "      <td>1445991.78</td>\n",
       "      <td>33441.0</td>\n",
       "      <td>1798349.3</td>\n",
       "      <td>1960</td>\n",
       "      <td>105282.69</td>\n",
       "      <td>180649.26</td>\n",
       "      <td>75213.72</td>\n",
       "      <td>14200.86</td>\n",
       "      <td>0.00</td>\n",
       "      <td>32705.82</td>\n",
       "      <td>13001.24</td>\n",
       "      <td>0.00</td>\n",
       "      <td>0.00</td>\n",
       "    </tr>\n",
       "    <tr>\n",
       "      <th>2</th>\n",
       "      <td>2017-06-01</td>\n",
       "      <td>2037-05-01</td>\n",
       "      <td>2725017.88</td>\n",
       "      <td>94597.0</td>\n",
       "      <td>1653153.29</td>\n",
       "      <td>1959</td>\n",
       "      <td>230180.51</td>\n",
       "      <td>305261.44</td>\n",
       "      <td>71830.08</td>\n",
       "      <td>11574.56</td>\n",
       "      <td>0.00</td>\n",
       "      <td>39049.76</td>\n",
       "      <td>3869.46</td>\n",
       "      <td>381.04</td>\n",
       "      <td>0.00</td>\n",
       "    </tr>\n",
       "    <tr>\n",
       "      <th>3</th>\n",
       "      <td>2017-07-01</td>\n",
       "      <td>2037-06-01</td>\n",
       "      <td>4203448.93</td>\n",
       "      <td>95670.0</td>\n",
       "      <td>7554077.66</td>\n",
       "      <td>1976</td>\n",
       "      <td>509272.80</td>\n",
       "      <td>890801.66</td>\n",
       "      <td>417618.92</td>\n",
       "      <td>82308.66</td>\n",
       "      <td>0.00</td>\n",
       "      <td>51614.93</td>\n",
       "      <td>11441.55</td>\n",
       "      <td>25899.44</td>\n",
       "      <td>104574.43</td>\n",
       "    </tr>\n",
       "    <tr>\n",
       "      <th>4</th>\n",
       "      <td>2017-06-01</td>\n",
       "      <td>2027-05-01</td>\n",
       "      <td>872183.47</td>\n",
       "      <td>90008.0</td>\n",
       "      <td>1306139.1</td>\n",
       "      <td>1952</td>\n",
       "      <td>68206.10</td>\n",
       "      <td>101021.26</td>\n",
       "      <td>34641.78</td>\n",
       "      <td>7161.38</td>\n",
       "      <td>0.00</td>\n",
       "      <td>11057.87</td>\n",
       "      <td>3008.81</td>\n",
       "      <td>6592.98</td>\n",
       "      <td>0.00</td>\n",
       "    </tr>\n",
       "  </tbody>\n",
       "</table>\n",
       "</div>"
      ],
      "text/plain": [
       "  First Payment Date Maturity Date  Loan Amount      Zip Property Value  \\\n",
       "0         2017-06-01    2022-05-01   2143864.02  60077.0     3003400.24   \n",
       "1         2017-06-01    2037-05-01   1445991.78  33441.0      1798349.3   \n",
       "2         2017-06-01    2037-05-01   2725017.88  94597.0     1653153.29   \n",
       "3         2017-07-01    2037-06-01   4203448.93  95670.0     7554077.66   \n",
       "4         2017-06-01    2027-05-01    872183.47  90008.0      1306139.1   \n",
       "\n",
       "  Year Built  Net Operating Income  Effective Gross Income  \\\n",
       "0       1965             153643.96               282027.80   \n",
       "1       1960             105282.69               180649.26   \n",
       "2       1959             230180.51               305261.44   \n",
       "3       1976             509272.80               890801.66   \n",
       "4       1952              68206.10               101021.26   \n",
       "\n",
       "   Total Operating Expenses  Maintenance Expense  Parking Expense  \\\n",
       "0                 125597.78             18793.51          4608.95   \n",
       "1                  75213.72             14200.86             0.00   \n",
       "2                  71830.08             11574.56             0.00   \n",
       "3                 417618.92             82308.66             0.00   \n",
       "4                  34641.78              7161.38             0.00   \n",
       "\n",
       "   Taxes Expense  Insurance Expense  Utilities Expense  Payroll Expense  \n",
       "0       41580.76            9110.30           11233.91         12215.12  \n",
       "1       32705.82           13001.24               0.00             0.00  \n",
       "2       39049.76            3869.46             381.04             0.00  \n",
       "3       51614.93           11441.55           25899.44        104574.43  \n",
       "4       11057.87            3008.81            6592.98             0.00  "
      ]
     },
     "execution_count": 2,
     "metadata": {},
     "output_type": "execute_result"
    }
   ],
   "source": [
    "#Read the file and load to the dataframe\n",
    "df = pd.read_csv('re_data.csv', parse_dates=['First Payment Date', 'Maturity Date'])\n",
    "df.head()"
   ]
  },
  {
   "cell_type": "code",
   "execution_count": 3,
   "metadata": {},
   "outputs": [
    {
     "data": {
      "text/plain": [
       "(967, 15)"
      ]
     },
     "execution_count": 3,
     "metadata": {},
     "output_type": "execute_result"
    }
   ],
   "source": [
    "df.shape"
   ]
  },
  {
   "cell_type": "code",
   "execution_count": 4,
   "metadata": {},
   "outputs": [
    {
     "name": "stdout",
     "output_type": "stream",
     "text": [
      "<class 'pandas.core.frame.DataFrame'>\n",
      "RangeIndex: 967 entries, 0 to 966\n",
      "Data columns (total 15 columns):\n",
      "First Payment Date          952 non-null datetime64[ns]\n",
      "Maturity Date               952 non-null datetime64[ns]\n",
      "Loan Amount                 967 non-null float64\n",
      "Zip                         955 non-null float64\n",
      "Property Value              967 non-null object\n",
      "Year Built                  944 non-null object\n",
      "Net Operating Income        967 non-null float64\n",
      "Effective Gross Income      967 non-null float64\n",
      "Total Operating Expenses    967 non-null float64\n",
      "Maintenance Expense         967 non-null float64\n",
      "Parking Expense             967 non-null float64\n",
      "Taxes Expense               967 non-null float64\n",
      "Insurance Expense           967 non-null float64\n",
      "Utilities Expense           967 non-null float64\n",
      "Payroll Expense             967 non-null float64\n",
      "dtypes: datetime64[ns](2), float64(11), object(2)\n",
      "memory usage: 113.4+ KB\n"
     ]
    }
   ],
   "source": [
    "df.info()"
   ]
  },
  {
   "cell_type": "markdown",
   "metadata": {},
   "source": [
    "I would first prefer to do **Exploratory Analysis of the data, make it clean and usable before answering the questions**. Lets rename the column names to remove spaces and change datatype for few columns."
   ]
  },
  {
   "cell_type": "code",
   "execution_count": 5,
   "metadata": {
    "collapsed": true
   },
   "outputs": [],
   "source": [
    "#Rename the columns to remove space\n",
    "new_column_names =(['First_Payment_Date', 'Maturity_Date', 'Loan_Amount', 'Zip','Property_Value', 'Year_Built', \n",
    "                    'Net_Operating_Income','Effective_Gross_Income', 'Total_Operating_Expenses',\n",
    "                    'Maintenance_Expense', 'Parking_Expense', 'Taxes_Expense', 'Insurance_Expense', \n",
    "                    'Utilities_Expense', 'Payroll_Expense'])\n",
    "                   \n",
    "df.columns = new_column_names"
   ]
  },
  {
   "cell_type": "code",
   "execution_count": 6,
   "metadata": {},
   "outputs": [
    {
     "data": {
      "text/plain": [
       "Index(['First_Payment_Date', 'Maturity_Date', 'Loan_Amount', 'Zip',\n",
       "       'Property_Value', 'Year_Built', 'Net_Operating_Income',\n",
       "       'Effective_Gross_Income', 'Total_Operating_Expenses',\n",
       "       'Maintenance_Expense', 'Parking_Expense', 'Taxes_Expense',\n",
       "       'Insurance_Expense', 'Utilities_Expense', 'Payroll_Expense'],\n",
       "      dtype='object')"
      ]
     },
     "execution_count": 6,
     "metadata": {},
     "output_type": "execute_result"
    }
   ],
   "source": [
    "df.columns"
   ]
  },
  {
   "cell_type": "code",
   "execution_count": 7,
   "metadata": {},
   "outputs": [
    {
     "name": "stdout",
     "output_type": "stream",
     "text": [
      "<class 'pandas.core.frame.DataFrame'>\n",
      "RangeIndex: 967 entries, 0 to 966\n",
      "Data columns (total 15 columns):\n",
      "First_Payment_Date          952 non-null datetime64[ns]\n",
      "Maturity_Date               952 non-null datetime64[ns]\n",
      "Loan_Amount                 967 non-null float64\n",
      "Zip                         955 non-null float64\n",
      "Property_Value              967 non-null object\n",
      "Year_Built                  944 non-null object\n",
      "Net_Operating_Income        967 non-null float64\n",
      "Effective_Gross_Income      967 non-null float64\n",
      "Total_Operating_Expenses    967 non-null float64\n",
      "Maintenance_Expense         967 non-null float64\n",
      "Parking_Expense             967 non-null float64\n",
      "Taxes_Expense               967 non-null float64\n",
      "Insurance_Expense           967 non-null float64\n",
      "Utilities_Expense           967 non-null float64\n",
      "Payroll_Expense             967 non-null float64\n",
      "dtypes: datetime64[ns](2), float64(11), object(2)\n",
      "memory usage: 113.4+ KB\n"
     ]
    }
   ],
   "source": [
    "df.info()"
   ]
  },
  {
   "cell_type": "code",
   "execution_count": 8,
   "metadata": {},
   "outputs": [
    {
     "data": {
      "text/plain": [
       "First_Payment_Date          15\n",
       "Maturity_Date               15\n",
       "Loan_Amount                  0\n",
       "Zip                         12\n",
       "Property_Value               0\n",
       "Year_Built                  23\n",
       "Net_Operating_Income         0\n",
       "Effective_Gross_Income       0\n",
       "Total_Operating_Expenses     0\n",
       "Maintenance_Expense          0\n",
       "Parking_Expense              0\n",
       "Taxes_Expense                0\n",
       "Insurance_Expense            0\n",
       "Utilities_Expense            0\n",
       "Payroll_Expense              0\n",
       "dtype: int64"
      ]
     },
     "execution_count": 8,
     "metadata": {},
     "output_type": "execute_result"
    }
   ],
   "source": [
    "# Check nulls in each column\n",
    "df.isnull().sum()"
   ]
  },
  {
   "cell_type": "markdown",
   "metadata": {},
   "source": [
    "# Handling NaN and missing values\n",
    "\n",
    "+ There are **15 observations with null values in FirstPaymentDate and Maturaity date**. They have loan amount as 0. So, I can safely replace NaN with any default value. Lets use 2000-01-01 as default date.\n",
    "\n",
    "+ There are **12 observations with Null Zip**. Most of the corresponding property_value and year_build is also NaN. So, we can drop **drop these observations.**\n",
    "\n",
    "+ There is no NaN in property_value but there are 14 observations for which **value is set as 'Error**'. I assumed that these values are not available and **replaced 'error' with mean of the property value.** \n",
    "\n",
    "+ There are 23 NaN for year_build. Let's use **median to fill these NaN**. Few places 'Year_build' has two years separated with comma. I picked up the 1st year in these scenarios.\n",
    "\n",
    "+ I also verified for the duplicates and **found no duplicates**.\n",
    "\n"
   ]
  },
  {
   "cell_type": "code",
   "execution_count": 9,
   "metadata": {},
   "outputs": [
    {
     "data": {
      "text/html": [
       "<div>\n",
       "<style>\n",
       "    .dataframe thead tr:only-child th {\n",
       "        text-align: right;\n",
       "    }\n",
       "\n",
       "    .dataframe thead th {\n",
       "        text-align: left;\n",
       "    }\n",
       "\n",
       "    .dataframe tbody tr th {\n",
       "        vertical-align: top;\n",
       "    }\n",
       "</style>\n",
       "<table border=\"1\" class=\"dataframe\">\n",
       "  <thead>\n",
       "    <tr style=\"text-align: right;\">\n",
       "      <th></th>\n",
       "      <th>First_Payment_Date</th>\n",
       "      <th>Maturity_Date</th>\n",
       "      <th>Loan_Amount</th>\n",
       "      <th>Zip</th>\n",
       "      <th>Property_Value</th>\n",
       "      <th>Year_Built</th>\n",
       "      <th>Net_Operating_Income</th>\n",
       "      <th>Effective_Gross_Income</th>\n",
       "      <th>Total_Operating_Expenses</th>\n",
       "      <th>Maintenance_Expense</th>\n",
       "      <th>Parking_Expense</th>\n",
       "      <th>Taxes_Expense</th>\n",
       "      <th>Insurance_Expense</th>\n",
       "      <th>Utilities_Expense</th>\n",
       "      <th>Payroll_Expense</th>\n",
       "    </tr>\n",
       "  </thead>\n",
       "  <tbody>\n",
       "    <tr>\n",
       "      <th>17</th>\n",
       "      <td>2000-01-01</td>\n",
       "      <td>2000-01-01</td>\n",
       "      <td>0.0</td>\n",
       "      <td>46107.0</td>\n",
       "      <td>1434633.02</td>\n",
       "      <td>1973</td>\n",
       "      <td>279324.20</td>\n",
       "      <td>299338.99</td>\n",
       "      <td>11958.82</td>\n",
       "      <td>0.00</td>\n",
       "      <td>0.0</td>\n",
       "      <td>0.00</td>\n",
       "      <td>0.00</td>\n",
       "      <td>0.00</td>\n",
       "      <td>0.00</td>\n",
       "    </tr>\n",
       "    <tr>\n",
       "      <th>34</th>\n",
       "      <td>2000-01-01</td>\n",
       "      <td>2000-01-01</td>\n",
       "      <td>0.0</td>\n",
       "      <td>27103.0</td>\n",
       "      <td>0.0</td>\n",
       "      <td>NaN</td>\n",
       "      <td>884181.45</td>\n",
       "      <td>934362.56</td>\n",
       "      <td>37540.75</td>\n",
       "      <td>0.00</td>\n",
       "      <td>0.0</td>\n",
       "      <td>0.00</td>\n",
       "      <td>0.00</td>\n",
       "      <td>0.00</td>\n",
       "      <td>0.00</td>\n",
       "    </tr>\n",
       "    <tr>\n",
       "      <th>59</th>\n",
       "      <td>2000-01-01</td>\n",
       "      <td>2000-01-01</td>\n",
       "      <td>0.0</td>\n",
       "      <td>94117.0</td>\n",
       "      <td>3255248.75</td>\n",
       "      <td>1954</td>\n",
       "      <td>121955.91</td>\n",
       "      <td>172146.05</td>\n",
       "      <td>53158.02</td>\n",
       "      <td>17448.09</td>\n",
       "      <td>0.0</td>\n",
       "      <td>13258.43</td>\n",
       "      <td>4852.59</td>\n",
       "      <td>2374.02</td>\n",
       "      <td>0.00</td>\n",
       "    </tr>\n",
       "    <tr>\n",
       "      <th>97</th>\n",
       "      <td>2000-01-01</td>\n",
       "      <td>2000-01-01</td>\n",
       "      <td>0.0</td>\n",
       "      <td>75236.0</td>\n",
       "      <td>36475296.92</td>\n",
       "      <td>1985</td>\n",
       "      <td>2608926.48</td>\n",
       "      <td>5116603.64</td>\n",
       "      <td>2434783.16</td>\n",
       "      <td>280821.64</td>\n",
       "      <td>0.0</td>\n",
       "      <td>491018.21</td>\n",
       "      <td>79579.43</td>\n",
       "      <td>624440.71</td>\n",
       "      <td>691910.28</td>\n",
       "    </tr>\n",
       "    <tr>\n",
       "      <th>120</th>\n",
       "      <td>2000-01-01</td>\n",
       "      <td>2000-01-01</td>\n",
       "      <td>0.0</td>\n",
       "      <td>97116.0</td>\n",
       "      <td>3530125.48</td>\n",
       "      <td>1976</td>\n",
       "      <td>296549.42</td>\n",
       "      <td>310462.24</td>\n",
       "      <td>15315.42</td>\n",
       "      <td>0.00</td>\n",
       "      <td>0.0</td>\n",
       "      <td>0.00</td>\n",
       "      <td>0.00</td>\n",
       "      <td>0.00</td>\n",
       "      <td>0.00</td>\n",
       "    </tr>\n",
       "    <tr>\n",
       "      <th>135</th>\n",
       "      <td>2000-01-01</td>\n",
       "      <td>2000-01-01</td>\n",
       "      <td>0.0</td>\n",
       "      <td>80203.0</td>\n",
       "      <td>0.0</td>\n",
       "      <td>NaN</td>\n",
       "      <td>344853.79</td>\n",
       "      <td>352737.01</td>\n",
       "      <td>13810.99</td>\n",
       "      <td>0.00</td>\n",
       "      <td>0.0</td>\n",
       "      <td>0.00</td>\n",
       "      <td>0.00</td>\n",
       "      <td>0.00</td>\n",
       "      <td>0.00</td>\n",
       "    </tr>\n",
       "    <tr>\n",
       "      <th>138</th>\n",
       "      <td>2000-01-01</td>\n",
       "      <td>2000-01-01</td>\n",
       "      <td>0.0</td>\n",
       "      <td>23234.0</td>\n",
       "      <td>9131195.45</td>\n",
       "      <td>1968</td>\n",
       "      <td>444354.44</td>\n",
       "      <td>1109652.51</td>\n",
       "      <td>690688.69</td>\n",
       "      <td>163807.75</td>\n",
       "      <td>0.0</td>\n",
       "      <td>67621.77</td>\n",
       "      <td>65799.85</td>\n",
       "      <td>12701.07</td>\n",
       "      <td>145266.39</td>\n",
       "    </tr>\n",
       "    <tr>\n",
       "      <th>139</th>\n",
       "      <td>2000-01-01</td>\n",
       "      <td>2000-01-01</td>\n",
       "      <td>0.0</td>\n",
       "      <td>11216.0</td>\n",
       "      <td>2852104.2</td>\n",
       "      <td>1931</td>\n",
       "      <td>154502.94</td>\n",
       "      <td>166932.65</td>\n",
       "      <td>6415.59</td>\n",
       "      <td>0.00</td>\n",
       "      <td>0.0</td>\n",
       "      <td>0.00</td>\n",
       "      <td>0.00</td>\n",
       "      <td>0.00</td>\n",
       "      <td>0.00</td>\n",
       "    </tr>\n",
       "    <tr>\n",
       "      <th>181</th>\n",
       "      <td>2000-01-01</td>\n",
       "      <td>2000-01-01</td>\n",
       "      <td>0.0</td>\n",
       "      <td>78704.0</td>\n",
       "      <td>0.0</td>\n",
       "      <td>1952</td>\n",
       "      <td>491378.53</td>\n",
       "      <td>497601.87</td>\n",
       "      <td>20332.77</td>\n",
       "      <td>0.00</td>\n",
       "      <td>0.0</td>\n",
       "      <td>0.00</td>\n",
       "      <td>0.00</td>\n",
       "      <td>0.00</td>\n",
       "      <td>0.00</td>\n",
       "    </tr>\n",
       "    <tr>\n",
       "      <th>183</th>\n",
       "      <td>2000-01-01</td>\n",
       "      <td>2000-01-01</td>\n",
       "      <td>0.0</td>\n",
       "      <td>97448.0</td>\n",
       "      <td>9173461.76</td>\n",
       "      <td>1995</td>\n",
       "      <td>652028.45</td>\n",
       "      <td>1089995.98</td>\n",
       "      <td>416415.85</td>\n",
       "      <td>112133.84</td>\n",
       "      <td>0.0</td>\n",
       "      <td>110682.81</td>\n",
       "      <td>24318.07</td>\n",
       "      <td>5831.30</td>\n",
       "      <td>26614.84</td>\n",
       "    </tr>\n",
       "    <tr>\n",
       "      <th>208</th>\n",
       "      <td>2000-01-01</td>\n",
       "      <td>2000-01-01</td>\n",
       "      <td>0.0</td>\n",
       "      <td>1867.0</td>\n",
       "      <td>0.0</td>\n",
       "      <td>NaN</td>\n",
       "      <td>236482.15</td>\n",
       "      <td>253745.51</td>\n",
       "      <td>10358.84</td>\n",
       "      <td>0.00</td>\n",
       "      <td>0.0</td>\n",
       "      <td>0.00</td>\n",
       "      <td>0.00</td>\n",
       "      <td>0.00</td>\n",
       "      <td>0.00</td>\n",
       "    </tr>\n",
       "    <tr>\n",
       "      <th>298</th>\n",
       "      <td>2000-01-01</td>\n",
       "      <td>2000-01-01</td>\n",
       "      <td>0.0</td>\n",
       "      <td>93103.0</td>\n",
       "      <td>3543281.95</td>\n",
       "      <td>1963</td>\n",
       "      <td>150615.99</td>\n",
       "      <td>215495.27</td>\n",
       "      <td>69435.63</td>\n",
       "      <td>17215.64</td>\n",
       "      <td>0.0</td>\n",
       "      <td>17317.80</td>\n",
       "      <td>6270.23</td>\n",
       "      <td>2935.54</td>\n",
       "      <td>0.00</td>\n",
       "    </tr>\n",
       "    <tr>\n",
       "      <th>824</th>\n",
       "      <td>2000-01-01</td>\n",
       "      <td>2000-01-01</td>\n",
       "      <td>0.0</td>\n",
       "      <td>76116.0</td>\n",
       "      <td>0.0</td>\n",
       "      <td>1979</td>\n",
       "      <td>647574.51</td>\n",
       "      <td>1524976.91</td>\n",
       "      <td>922282.72</td>\n",
       "      <td>140697.53</td>\n",
       "      <td>0.0</td>\n",
       "      <td>183689.25</td>\n",
       "      <td>55598.39</td>\n",
       "      <td>218609.50</td>\n",
       "      <td>214937.90</td>\n",
       "    </tr>\n",
       "    <tr>\n",
       "      <th>849</th>\n",
       "      <td>2000-01-01</td>\n",
       "      <td>2000-01-01</td>\n",
       "      <td>0.0</td>\n",
       "      <td>11233.0</td>\n",
       "      <td>1892409.25</td>\n",
       "      <td>1907</td>\n",
       "      <td>94272.72</td>\n",
       "      <td>122669.73</td>\n",
       "      <td>28579.31</td>\n",
       "      <td>2890.75</td>\n",
       "      <td>0.0</td>\n",
       "      <td>4068.30</td>\n",
       "      <td>2365.83</td>\n",
       "      <td>6411.50</td>\n",
       "      <td>2972.77</td>\n",
       "    </tr>\n",
       "    <tr>\n",
       "      <th>921</th>\n",
       "      <td>2000-01-01</td>\n",
       "      <td>2000-01-01</td>\n",
       "      <td>0.0</td>\n",
       "      <td>15217.0</td>\n",
       "      <td>0.0</td>\n",
       "      <td>NaN</td>\n",
       "      <td>401955.17</td>\n",
       "      <td>542409.35</td>\n",
       "      <td>146125.52</td>\n",
       "      <td>30148.19</td>\n",
       "      <td>0.0</td>\n",
       "      <td>59886.07</td>\n",
       "      <td>9413.08</td>\n",
       "      <td>21718.82</td>\n",
       "      <td>0.00</td>\n",
       "    </tr>\n",
       "  </tbody>\n",
       "</table>\n",
       "</div>"
      ],
      "text/plain": [
       "    First_Payment_Date Maturity_Date  Loan_Amount      Zip Property_Value  \\\n",
       "17          2000-01-01    2000-01-01          0.0  46107.0     1434633.02   \n",
       "34          2000-01-01    2000-01-01          0.0  27103.0            0.0   \n",
       "59          2000-01-01    2000-01-01          0.0  94117.0     3255248.75   \n",
       "97          2000-01-01    2000-01-01          0.0  75236.0    36475296.92   \n",
       "120         2000-01-01    2000-01-01          0.0  97116.0     3530125.48   \n",
       "135         2000-01-01    2000-01-01          0.0  80203.0            0.0   \n",
       "138         2000-01-01    2000-01-01          0.0  23234.0     9131195.45   \n",
       "139         2000-01-01    2000-01-01          0.0  11216.0      2852104.2   \n",
       "181         2000-01-01    2000-01-01          0.0  78704.0            0.0   \n",
       "183         2000-01-01    2000-01-01          0.0  97448.0     9173461.76   \n",
       "208         2000-01-01    2000-01-01          0.0   1867.0            0.0   \n",
       "298         2000-01-01    2000-01-01          0.0  93103.0     3543281.95   \n",
       "824         2000-01-01    2000-01-01          0.0  76116.0            0.0   \n",
       "849         2000-01-01    2000-01-01          0.0  11233.0     1892409.25   \n",
       "921         2000-01-01    2000-01-01          0.0  15217.0            0.0   \n",
       "\n",
       "    Year_Built  Net_Operating_Income  Effective_Gross_Income  \\\n",
       "17        1973             279324.20               299338.99   \n",
       "34         NaN             884181.45               934362.56   \n",
       "59        1954             121955.91               172146.05   \n",
       "97        1985            2608926.48              5116603.64   \n",
       "120       1976             296549.42               310462.24   \n",
       "135        NaN             344853.79               352737.01   \n",
       "138       1968             444354.44              1109652.51   \n",
       "139       1931             154502.94               166932.65   \n",
       "181       1952             491378.53               497601.87   \n",
       "183       1995             652028.45              1089995.98   \n",
       "208        NaN             236482.15               253745.51   \n",
       "298       1963             150615.99               215495.27   \n",
       "824       1979             647574.51              1524976.91   \n",
       "849       1907              94272.72               122669.73   \n",
       "921        NaN             401955.17               542409.35   \n",
       "\n",
       "     Total_Operating_Expenses  Maintenance_Expense  Parking_Expense  \\\n",
       "17                   11958.82                 0.00              0.0   \n",
       "34                   37540.75                 0.00              0.0   \n",
       "59                   53158.02             17448.09              0.0   \n",
       "97                 2434783.16            280821.64              0.0   \n",
       "120                  15315.42                 0.00              0.0   \n",
       "135                  13810.99                 0.00              0.0   \n",
       "138                 690688.69            163807.75              0.0   \n",
       "139                   6415.59                 0.00              0.0   \n",
       "181                  20332.77                 0.00              0.0   \n",
       "183                 416415.85            112133.84              0.0   \n",
       "208                  10358.84                 0.00              0.0   \n",
       "298                  69435.63             17215.64              0.0   \n",
       "824                 922282.72            140697.53              0.0   \n",
       "849                  28579.31              2890.75              0.0   \n",
       "921                 146125.52             30148.19              0.0   \n",
       "\n",
       "     Taxes_Expense  Insurance_Expense  Utilities_Expense  Payroll_Expense  \n",
       "17            0.00               0.00               0.00             0.00  \n",
       "34            0.00               0.00               0.00             0.00  \n",
       "59        13258.43            4852.59            2374.02             0.00  \n",
       "97       491018.21           79579.43          624440.71        691910.28  \n",
       "120           0.00               0.00               0.00             0.00  \n",
       "135           0.00               0.00               0.00             0.00  \n",
       "138       67621.77           65799.85           12701.07        145266.39  \n",
       "139           0.00               0.00               0.00             0.00  \n",
       "181           0.00               0.00               0.00             0.00  \n",
       "183      110682.81           24318.07            5831.30         26614.84  \n",
       "208           0.00               0.00               0.00             0.00  \n",
       "298       17317.80            6270.23            2935.54             0.00  \n",
       "824      183689.25           55598.39          218609.50        214937.90  \n",
       "849        4068.30            2365.83            6411.50          2972.77  \n",
       "921       59886.07            9413.08           21718.82             0.00  "
      ]
     },
     "execution_count": 9,
     "metadata": {},
     "output_type": "execute_result"
    }
   ],
   "source": [
    "# Fill the Nan date with default date as 2000-01-01 '\n",
    "df['First_Payment_Date'] = df['First_Payment_Date'].fillna(pd.to_datetime('2000-01-01'))\n",
    "df['Maturity_Date'] = df['Maturity_Date'].fillna(pd.to_datetime('2000-01-01'))\n",
    "df[df.First_Payment_Date=='2000-01-01']"
   ]
  },
  {
   "cell_type": "code",
   "execution_count": 10,
   "metadata": {},
   "outputs": [
    {
     "data": {
      "text/plain": [
       "0"
      ]
     },
     "execution_count": 10,
     "metadata": {},
     "output_type": "execute_result"
    }
   ],
   "source": [
    "#Drop the observations having Zip as null\n",
    "df =df.dropna(subset=['Zip'])\n",
    "df['Zip'] = df['Zip'].astype(np.int)\n",
    "df.Zip.isnull().sum()"
   ]
  },
  {
   "cell_type": "code",
   "execution_count": 11,
   "metadata": {},
   "outputs": [
    {
     "data": {
      "text/plain": [
       "0"
      ]
     },
     "execution_count": 11,
     "metadata": {},
     "output_type": "execute_result"
    }
   ],
   "source": [
    "# Handling of Property_Value as 'Error' \n",
    "df.Property_Value.replace('Error', np.NaN, inplace=True) # Replace the 'Error with NaN\n",
    "df['Property_Value'] = df['Property_Value'].astype(np.float64) # Change the datatype to float\n",
    "df.Property_Value.fillna(df.Property_Value.mean(), inplace=True)#Impute the NaN with mean value\n",
    "df.Property_Value.isnull().sum()"
   ]
  },
  {
   "cell_type": "code",
   "execution_count": 12,
   "metadata": {
    "collapsed": true
   },
   "outputs": [],
   "source": [
    "#Handling Null of Year Built\n",
    "df['Year_Built']= df['Year_Built'].apply(lambda x: str(x)[:4] if x is not np.NaN else np.NaN)# choose the 1st year"
   ]
  },
  {
   "cell_type": "code",
   "execution_count": 13,
   "metadata": {},
   "outputs": [
    {
     "data": {
      "text/plain": [
       "0"
      ]
     },
     "execution_count": 13,
     "metadata": {},
     "output_type": "execute_result"
    }
   ],
   "source": [
    "df.Year_Built.fillna(df.Year_Built.median(), inplace=True)#Impute the NaN with median value\n",
    "df['Year_Built'] = df['Year_Built'].astype(np.int) \n",
    "df.Year_Built.isnull().sum()"
   ]
  },
  {
   "cell_type": "markdown",
   "metadata": {},
   "source": [
    "Let's check how the data distribution in 'Year_Built' looks like after imputing with median"
   ]
  },
  {
   "cell_type": "code",
   "execution_count": 14,
   "metadata": {},
   "outputs": [
    {
     "data": {
      "text/plain": [
       "<matplotlib.text.Text at 0xbb8e630>"
      ]
     },
     "execution_count": 14,
     "metadata": {},
     "output_type": "execute_result"
    },
    {
     "data": {
      "image/png": "[encoded data removed]",
      "text/plain": [
       "<matplotlib.figure.Figure at 0xba283c8>"
      ]
     },
     "metadata": {},
     "output_type": "display_data"
    }
   ],
   "source": [
    "# Plot Violinplot of Year built\n",
    "sns.violinplot(df.Year_Built)\n",
    "plt.title('Range and distribution of Year built')"
   ]
  },
  {
   "cell_type": "code",
   "execution_count": 15,
   "metadata": {},
   "outputs": [],
   "source": [
    "#df['Year_Built'] = df['Year_Built'].astype(np.int) "
   ]
  },
  {
   "cell_type": "code",
   "execution_count": 16,
   "metadata": {},
   "outputs": [
    {
     "data": {
      "text/plain": [
       "0"
      ]
     },
     "execution_count": 16,
     "metadata": {},
     "output_type": "execute_result"
    }
   ],
   "source": [
    "# check for the duplicate observations\n",
    "df.duplicated().sum()"
   ]
  },
  {
   "cell_type": "markdown",
   "metadata": {},
   "source": [
    "# Handling repetitive values:\n",
    "\n",
    "It seems there are many  0's in our dataset. Let's find out the **repetition of 0's **in each column. If any of the columns has more than 70% zeros, we can safely drop that column. This kind of data trend can be viewed on violinplot. \n",
    "    \n",
    "**Parking_Expense has 85% of data as 0**. So, I decided to drop this feature."
   ]
  },
  {
   "cell_type": "code",
   "execution_count": 17,
   "metadata": {},
   "outputs": [
    {
     "data": {
      "text/plain": [
       "{'Effective_Gross_Income': '1.05%',\n",
       " 'Insurance_Expense': '3.66%',\n",
       " 'Loan_Amount': '14.66%',\n",
       " 'Maintenance_Expense': '3.66%',\n",
       " 'Net_Operating_Income': '1.05%',\n",
       " 'Parking_Expense': '84.92%',\n",
       " 'Payroll_Expense': '18.12%',\n",
       " 'Property_Value': '1.68%',\n",
       " 'Taxes_Expense': '4.08%',\n",
       " 'Total_Operating_Expenses': '1.26%',\n",
       " 'Utilities_Expense': '4.29%'}"
      ]
     },
     "execution_count": 17,
     "metadata": {},
     "output_type": "execute_result"
    }
   ],
   "source": [
    "# Calculate the repetition of 0 in each column\n",
    "perct_0  = {column: '%2.2f' % (((df[column] == 0).sum()/df.shape[0])*100)+'%' for column in df.columns if df[column].dtype == np.float64}\n",
    "perct_0 "
   ]
  },
  {
   "cell_type": "code",
   "execution_count": 18,
   "metadata": {},
   "outputs": [
    {
     "data": {
      "text/plain": [
       "<matplotlib.text.Text at 0xbcc1550>"
      ]
     },
     "execution_count": 18,
     "metadata": {},
     "output_type": "execute_result"
    },
    {
     "data": {
      "image/png": "[encoded data removed]",
      "text/plain": [
       "<matplotlib.figure.Figure at 0xbb7b3c8>"
      ]
     },
     "metadata": {},
     "output_type": "display_data"
    }
   ],
   "source": [
    "sns.violinplot(df.Parking_Expense)\n",
    "sns.plt.title('Parking_Expense Range and Distribution')"
   ]
  },
  {
   "cell_type": "code",
   "execution_count": 19,
   "metadata": {},
   "outputs": [
    {
     "data": {
      "text/plain": [
       "(955, 14)"
      ]
     },
     "execution_count": 19,
     "metadata": {},
     "output_type": "execute_result"
    }
   ],
   "source": [
    "df= df.drop(['Parking_Expense'], axis=1)\n",
    "df.shape"
   ]
  },
  {
   "cell_type": "code",
   "execution_count": 20,
   "metadata": {
    "collapsed": true
   },
   "outputs": [],
   "source": [
    "df['Property_Age'] = 2017-df['Year_Built']"
   ]
  },
  {
   "cell_type": "markdown",
   "metadata": {},
   "source": [
    "Our data is in clean state now. I saved it as a CSV file and will pick-up  to start with further tasks. "
   ]
  },
  {
   "cell_type": "code",
   "execution_count": 21,
   "metadata": {
    "collapsed": true
   },
   "outputs": [],
   "source": [
    "#Save the cleanData for next steps\n",
    "df.to_csv('data_clean.csv',index=False)"
   ]
  }
 ],
 "metadata": {
  "kernelspec": {
   "display_name": "Python 3",
   "language": "python",
   "name": "python3"
  },
  "language_info": {
   "codemirror_mode": {
    "name": "ipython",
    "version": 3
   },
   "file_extension": ".py",
   "mimetype": "text/x-python",
   "name": "python",
   "nbconvert_exporter": "python",
   "pygments_lexer": "ipython3",
   "version": "3.6.1"
  }
 },
 "nbformat": 4,
 "nbformat_minor": 2
}
