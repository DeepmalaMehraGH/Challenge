{
 "cells": [
  {
   "cell_type": "code",
   "execution_count": 1,
   "metadata": {
    "collapsed": true
   },
   "outputs": [],
   "source": [
    "#Import the libraries\n",
    "import pandas as pd\n",
    "import numpy as np\n",
    "import matplotlib.pylab as plt\n",
    "import seaborn as sns\n",
    "from statsmodels.stats.outliers_influence import variance_inflation_factor\n",
    "import scipy.stats as st\n",
    "from sklearn.model_selection import train_test_split \n",
    "from sklearn.linear_model import LinearRegression\n",
    "from sklearn.linear_model import Lasso\n",
    "from sklearn.linear_model import Ridge\n",
    "from sklearn.linear_model import ElasticNet\n",
    "from sklearn.metrics import mean_squared_error\n",
    "from sklearn.ensemble import RandomForestRegressor\n",
    "from sklearn.model_selection import RandomizedSearchCV \n",
    "from sklearn.model_selection import GridSearchCV\n",
    "from sklearn.model_selection import cross_val_score\n",
    "import warnings \n",
    "%matplotlib inline "
   ]
  },
  {
   "cell_type": "code",
   "execution_count": 2,
   "metadata": {},
   "outputs": [
    {
     "data": {
      "text/html": [
       "<div>\n",
       "<style>\n",
       "    .dataframe thead tr:only-child th {\n",
       "        text-align: right;\n",
       "    }\n",
       "\n",
       "    .dataframe thead th {\n",
       "        text-align: left;\n",
       "    }\n",
       "\n",
       "    .dataframe tbody tr th {\n",
       "        vertical-align: top;\n",
       "    }\n",
       "</style>\n",
       "<table border=\"1\" class=\"dataframe\">\n",
       "  <thead>\n",
       "    <tr style=\"text-align: right;\">\n",
       "      <th></th>\n",
       "      <th>First_Payment_Date</th>\n",
       "      <th>Maturity_Date</th>\n",
       "      <th>Loan_Amount</th>\n",
       "      <th>Zip</th>\n",
       "      <th>Property_Value</th>\n",
       "      <th>Year_Built</th>\n",
       "      <th>Net_Operating_Income</th>\n",
       "      <th>Effective_Gross_Income</th>\n",
       "      <th>Total_Operating_Expenses</th>\n",
       "      <th>Maintenance_Expense</th>\n",
       "      <th>Taxes_Expense</th>\n",
       "      <th>Insurance_Expense</th>\n",
       "      <th>Utilities_Expense</th>\n",
       "      <th>Payroll_Expense</th>\n",
       "      <th>Property_Age</th>\n",
       "    </tr>\n",
       "  </thead>\n",
       "  <tbody>\n",
       "    <tr>\n",
       "      <th>0</th>\n",
       "      <td>2017-06-01</td>\n",
       "      <td>2022-05-01</td>\n",
       "      <td>2143864.02</td>\n",
       "      <td>60077</td>\n",
       "      <td>3003400.24</td>\n",
       "      <td>1965</td>\n",
       "      <td>153643.96</td>\n",
       "      <td>282027.80</td>\n",
       "      <td>125597.78</td>\n",
       "      <td>18793.51</td>\n",
       "      <td>41580.76</td>\n",
       "      <td>9110.30</td>\n",
       "      <td>11233.91</td>\n",
       "      <td>12215.12</td>\n",
       "      <td>52</td>\n",
       "    </tr>\n",
       "    <tr>\n",
       "      <th>1</th>\n",
       "      <td>2017-06-01</td>\n",
       "      <td>2037-05-01</td>\n",
       "      <td>1445991.78</td>\n",
       "      <td>33441</td>\n",
       "      <td>1798349.30</td>\n",
       "      <td>1960</td>\n",
       "      <td>105282.69</td>\n",
       "      <td>180649.26</td>\n",
       "      <td>75213.72</td>\n",
       "      <td>14200.86</td>\n",
       "      <td>32705.82</td>\n",
       "      <td>13001.24</td>\n",
       "      <td>0.00</td>\n",
       "      <td>0.00</td>\n",
       "      <td>57</td>\n",
       "    </tr>\n",
       "    <tr>\n",
       "      <th>2</th>\n",
       "      <td>2017-06-01</td>\n",
       "      <td>2037-05-01</td>\n",
       "      <td>2725017.88</td>\n",
       "      <td>94597</td>\n",
       "      <td>1653153.29</td>\n",
       "      <td>1959</td>\n",
       "      <td>230180.51</td>\n",
       "      <td>305261.44</td>\n",
       "      <td>71830.08</td>\n",
       "      <td>11574.56</td>\n",
       "      <td>39049.76</td>\n",
       "      <td>3869.46</td>\n",
       "      <td>381.04</td>\n",
       "      <td>0.00</td>\n",
       "      <td>58</td>\n",
       "    </tr>\n",
       "    <tr>\n",
       "      <th>3</th>\n",
       "      <td>2017-07-01</td>\n",
       "      <td>2037-06-01</td>\n",
       "      <td>4203448.93</td>\n",
       "      <td>95670</td>\n",
       "      <td>7554077.66</td>\n",
       "      <td>1976</td>\n",
       "      <td>509272.80</td>\n",
       "      <td>890801.66</td>\n",
       "      <td>417618.92</td>\n",
       "      <td>82308.66</td>\n",
       "      <td>51614.93</td>\n",
       "      <td>11441.55</td>\n",
       "      <td>25899.44</td>\n",
       "      <td>104574.43</td>\n",
       "      <td>41</td>\n",
       "    </tr>\n",
       "    <tr>\n",
       "      <th>4</th>\n",
       "      <td>2017-06-01</td>\n",
       "      <td>2027-05-01</td>\n",
       "      <td>872183.47</td>\n",
       "      <td>90008</td>\n",
       "      <td>1306139.10</td>\n",
       "      <td>1952</td>\n",
       "      <td>68206.10</td>\n",
       "      <td>101021.26</td>\n",
       "      <td>34641.78</td>\n",
       "      <td>7161.38</td>\n",
       "      <td>11057.87</td>\n",
       "      <td>3008.81</td>\n",
       "      <td>6592.98</td>\n",
       "      <td>0.00</td>\n",
       "      <td>65</td>\n",
       "    </tr>\n",
       "  </tbody>\n",
       "</table>\n",
       "</div>"
      ],
      "text/plain": [
       "  First_Payment_Date Maturity_Date  Loan_Amount    Zip  Property_Value  \\\n",
       "0         2017-06-01    2022-05-01   2143864.02  60077      3003400.24   \n",
       "1         2017-06-01    2037-05-01   1445991.78  33441      1798349.30   \n",
       "2         2017-06-01    2037-05-01   2725017.88  94597      1653153.29   \n",
       "3         2017-07-01    2037-06-01   4203448.93  95670      7554077.66   \n",
       "4         2017-06-01    2027-05-01    872183.47  90008      1306139.10   \n",
       "\n",
       "   Year_Built  Net_Operating_Income  Effective_Gross_Income  \\\n",
       "0        1965             153643.96               282027.80   \n",
       "1        1960             105282.69               180649.26   \n",
       "2        1959             230180.51               305261.44   \n",
       "3        1976             509272.80               890801.66   \n",
       "4        1952              68206.10               101021.26   \n",
       "\n",
       "   Total_Operating_Expenses  Maintenance_Expense  Taxes_Expense  \\\n",
       "0                 125597.78             18793.51       41580.76   \n",
       "1                  75213.72             14200.86       32705.82   \n",
       "2                  71830.08             11574.56       39049.76   \n",
       "3                 417618.92             82308.66       51614.93   \n",
       "4                  34641.78              7161.38       11057.87   \n",
       "\n",
       "   Insurance_Expense  Utilities_Expense  Payroll_Expense  Property_Age  \n",
       "0            9110.30           11233.91         12215.12            52  \n",
       "1           13001.24               0.00             0.00            57  \n",
       "2            3869.46             381.04             0.00            58  \n",
       "3           11441.55           25899.44        104574.43            41  \n",
       "4            3008.81            6592.98             0.00            65  "
      ]
     },
     "execution_count": 2,
     "metadata": {},
     "output_type": "execute_result"
    }
   ],
   "source": [
    "#Read the clean data file and load into the dataframe\n",
    "df = pd.read_csv('data_clean.csv', parse_dates=['First_Payment_Date', 'Maturity_Date'])\n",
    "df.head()"
   ]
  },
  {
   "cell_type": "code",
   "execution_count": 3,
   "metadata": {
    "collapsed": true
   },
   "outputs": [],
   "source": [
    "warnings.simplefilter('ignore')"
   ]
  },
  {
   "cell_type": "code",
   "execution_count": 4,
   "metadata": {},
   "outputs": [
    {
     "name": "stdout",
     "output_type": "stream",
     "text": [
      "<class 'pandas.core.frame.DataFrame'>\n",
      "RangeIndex: 955 entries, 0 to 954\n",
      "Data columns (total 15 columns):\n",
      "First_Payment_Date          955 non-null datetime64[ns]\n",
      "Maturity_Date               955 non-null datetime64[ns]\n",
      "Loan_Amount                 955 non-null float64\n",
      "Zip                         955 non-null int64\n",
      "Property_Value              955 non-null float64\n",
      "Year_Built                  955 non-null int64\n",
      "Net_Operating_Income        955 non-null float64\n",
      "Effective_Gross_Income      955 non-null float64\n",
      "Total_Operating_Expenses    955 non-null float64\n",
      "Maintenance_Expense         955 non-null float64\n",
      "Taxes_Expense               955 non-null float64\n",
      "Insurance_Expense           955 non-null float64\n",
      "Utilities_Expense           955 non-null float64\n",
      "Payroll_Expense             955 non-null float64\n",
      "Property_Age                955 non-null int64\n",
      "dtypes: datetime64[ns](2), float64(10), int64(3)\n",
      "memory usage: 112.0 KB\n"
     ]
    }
   ],
   "source": [
    "df.info()"
   ]
  },
  {
   "cell_type": "markdown",
   "metadata": {},
   "source": [
    "Traget variable **LoanToValue** is created using the folrmula **Loan_Amount/Property_Value**.\n",
    "\n",
    "My approach is to first feed all the data to basic **OLS regression model to set the benchmark of model validation score which is R2 and Mean Squared Error.** Once the benchmark score is set, different feature engineering techniques and machine learning regression algorithms can be applied to achieve the best score. I took **80% of data to train and 20% of data to test** the model.\n",
    "\n",
    "From the ** base model(basic OLS) I got the R2 score as 0.37 and mse is 0.020**\n",
    "\n",
    "As Heatmap clearly showed multi-collinearity exists between the features, I used ** variance_inflation_factor** to determine the collinearity and **LASSO** for feature selection."
   ]
  },
  {
   "cell_type": "code",
   "execution_count": 5,
   "metadata": {
    "collapsed": true
   },
   "outputs": [],
   "source": [
    "df_loantoVal = df[(df.Loan_Amount != 0) & (df.Property_Value != 0)]\n",
    "df_loantoVal['LoanToValue'] = (df_loantoVal.Loan_Amount/df_loantoVal.Property_Value)"
   ]
  },
  {
   "cell_type": "code",
   "execution_count": 6,
   "metadata": {
    "collapsed": true
   },
   "outputs": [],
   "source": [
    "# Create predictor and target variables as X and y\n",
    "X= df_loantoVal.drop(['First_Payment_Date' ,'Maturity_Date','LoanToValue'], axis=1)\n",
    "y = df_loantoVal['LoanToValue']"
   ]
  },
  {
   "cell_type": "code",
   "execution_count": 7,
   "metadata": {},
   "outputs": [
    {
     "data": {
      "text/plain": [
       "((814, 13), (814,))"
      ]
     },
     "execution_count": 7,
     "metadata": {},
     "output_type": "execute_result"
    }
   ],
   "source": [
    "X.shape, y.shape"
   ]
  },
  {
   "cell_type": "code",
   "execution_count": 8,
   "metadata": {},
   "outputs": [
    {
     "data": {
      "text/plain": [
       "((651, 13), (651,), (163, 13), (163,))"
      ]
     },
     "execution_count": 8,
     "metadata": {},
     "output_type": "execute_result"
    }
   ],
   "source": [
    "#Split the data as train and test\n",
    "X_train, X_test, y_train, y_test = train_test_split(X, y, test_size=.20, random_state=42) \n",
    "X_train.shape , y_train.shape,  X_test.shape, y_test.shape"
   ]
  },
  {
   "cell_type": "code",
   "execution_count": 9,
   "metadata": {},
   "outputs": [
    {
     "name": "stdout",
     "output_type": "stream",
     "text": [
      "OLS Mean Squared error: 0.0206292596493\n",
      "OLS R2 Score: 0.372792577192\n"
     ]
    }
   ],
   "source": [
    "# OLS regression \n",
    "linearReg = LinearRegression()\n",
    "linearReg.fit(X_train, y_train)\n",
    "predicted_linear_y = linearReg.predict(X_test)\n",
    "print(\"OLS Mean Squared error:\",mean_squared_error(y_test, predicted_linear_y ))\n",
    "print(\"OLS R2 Score:\",linearReg.score(X_test, y_test))"
   ]
  },
  {
   "cell_type": "markdown",
   "metadata": {},
   "source": [
    "As Heatmap clearly shows multi-collinearity exists between the features, I used ** variance_inflation_factor** to determine the collinearity and Lasso for feature selection. "
   ]
  },
  {
   "cell_type": "code",
   "execution_count": 10,
   "metadata": {},
   "outputs": [
    {
     "data": {
      "text/plain": [
       "<matplotlib.text.Text at 0xc438ef0>"
      ]
     },
     "execution_count": 10,
     "metadata": {},
     "output_type": "execute_result"
    },
    {
     "data": {
      "image/png": "[encoded data removed]",
      "text/plain": [
       "<matplotlib.figure.Figure at 0xc05b780>"
      ]
     },
     "metadata": {},
     "output_type": "display_data"
    }
   ],
   "source": [
    "X_expense= pd.DataFrame(df[['Total_Operating_Expenses','Maintenance_Expense','Taxes_Expense',\n",
    "                            'Insurance_Expense','Utilities_Expense','Payroll_Expense']])\n",
    "col_corr =X_expense.corr()\n",
    "sns.heatmap(col_corr, annot=True)\n",
    "sns.plt.title('Heatmap of Correlation Matrix')"
   ]
  },
  {
   "cell_type": "code",
   "execution_count": 11,
   "metadata": {},
   "outputs": [
    {
     "data": {
      "text/html": [
       "<div>\n",
       "<style>\n",
       "    .dataframe thead tr:only-child th {\n",
       "        text-align: right;\n",
       "    }\n",
       "\n",
       "    .dataframe thead th {\n",
       "        text-align: left;\n",
       "    }\n",
       "\n",
       "    .dataframe tbody tr th {\n",
       "        vertical-align: top;\n",
       "    }\n",
       "</style>\n",
       "<table border=\"1\" class=\"dataframe\">\n",
       "  <thead>\n",
       "    <tr style=\"text-align: right;\">\n",
       "      <th></th>\n",
       "      <th>VIF_Factor</th>\n",
       "      <th>features</th>\n",
       "    </tr>\n",
       "  </thead>\n",
       "  <tbody>\n",
       "    <tr>\n",
       "      <th>0</th>\n",
       "      <td>185.7</td>\n",
       "      <td>Total_Operating_Expenses</td>\n",
       "    </tr>\n",
       "    <tr>\n",
       "      <th>1</th>\n",
       "      <td>20.9</td>\n",
       "      <td>Maintenance_Expense</td>\n",
       "    </tr>\n",
       "    <tr>\n",
       "      <th>2</th>\n",
       "      <td>21.1</td>\n",
       "      <td>Taxes_Expense</td>\n",
       "    </tr>\n",
       "    <tr>\n",
       "      <th>3</th>\n",
       "      <td>6.1</td>\n",
       "      <td>Insurance_Expense</td>\n",
       "    </tr>\n",
       "    <tr>\n",
       "      <th>4</th>\n",
       "      <td>3.7</td>\n",
       "      <td>Utilities_Expense</td>\n",
       "    </tr>\n",
       "    <tr>\n",
       "      <th>5</th>\n",
       "      <td>25.6</td>\n",
       "      <td>Payroll_Expense</td>\n",
       "    </tr>\n",
       "  </tbody>\n",
       "</table>\n",
       "</div>"
      ],
      "text/plain": [
       "   VIF_Factor                  features\n",
       "0       185.7  Total_Operating_Expenses\n",
       "1        20.9       Maintenance_Expense\n",
       "2        21.1             Taxes_Expense\n",
       "3         6.1         Insurance_Expense\n",
       "4         3.7         Utilities_Expense\n",
       "5        25.6           Payroll_Expense"
      ]
     },
     "execution_count": 11,
     "metadata": {},
     "output_type": "execute_result"
    }
   ],
   "source": [
    "X_expense= pd.DataFrame(df[['Total_Operating_Expenses','Maintenance_Expense','Taxes_Expense',\n",
    "                            'Insurance_Expense','Utilities_Expense','Payroll_Expense']])\n",
    "vifT = pd.DataFrame()\n",
    "vifT[\"VIF_Factor\"] = [variance_inflation_factor(X_expense.values, i) for i in range(X_expense.shape[1])]\n",
    "vifT[\"features\"] = X_expense.columns\n",
    "vifT.round(1)"
   ]
  },
  {
   "cell_type": "code",
   "execution_count": 12,
   "metadata": {},
   "outputs": [
    {
     "name": "stdout",
     "output_type": "stream",
     "text": [
      "Lasso Mean Squared error: 0.0205385087854\n",
      "Lasso R2 Score: 0.375551746278\n"
     ]
    }
   ],
   "source": [
    "# Instantiate a lasso regressor: lasso\n",
    "lasso = Lasso()\n",
    "# Fit the regressor to the data\n",
    "lasso.fit(X_train, y_train)\n",
    "predicted_lasso = lasso.predict(X_test)\n",
    "print(\"Lasso Mean Squared error:\",mean_squared_error(y_test, predicted_lasso))\n",
    "print(\"Lasso R2 Score:\",lasso.score(X_test, y_test))"
   ]
  },
  {
   "cell_type": "code",
   "execution_count": 13,
   "metadata": {},
   "outputs": [
    {
     "data": {
      "text/html": [
       "<div>\n",
       "<style>\n",
       "    .dataframe thead tr:only-child th {\n",
       "        text-align: right;\n",
       "    }\n",
       "\n",
       "    .dataframe thead th {\n",
       "        text-align: left;\n",
       "    }\n",
       "\n",
       "    .dataframe tbody tr th {\n",
       "        vertical-align: top;\n",
       "    }\n",
       "</style>\n",
       "<table border=\"1\" class=\"dataframe\">\n",
       "  <thead>\n",
       "    <tr style=\"text-align: right;\">\n",
       "      <th></th>\n",
       "      <th>LasoCoefficients</th>\n",
       "      <th>features</th>\n",
       "    </tr>\n",
       "  </thead>\n",
       "  <tbody>\n",
       "    <tr>\n",
       "      <th>0</th>\n",
       "      <td>2.959103e-08</td>\n",
       "      <td>Loan_Amount</td>\n",
       "    </tr>\n",
       "    <tr>\n",
       "      <th>1</th>\n",
       "      <td>-1.088985e-06</td>\n",
       "      <td>Zip</td>\n",
       "    </tr>\n",
       "    <tr>\n",
       "      <th>2</th>\n",
       "      <td>-1.360779e-08</td>\n",
       "      <td>Property_Value</td>\n",
       "    </tr>\n",
       "    <tr>\n",
       "      <th>3</th>\n",
       "      <td>0.000000e+00</td>\n",
       "      <td>Year_Built</td>\n",
       "    </tr>\n",
       "    <tr>\n",
       "      <th>4</th>\n",
       "      <td>-7.400854e-08</td>\n",
       "      <td>Net_Operating_Income</td>\n",
       "    </tr>\n",
       "    <tr>\n",
       "      <th>5</th>\n",
       "      <td>-1.379409e-08</td>\n",
       "      <td>Effective_Gross_Income</td>\n",
       "    </tr>\n",
       "    <tr>\n",
       "      <th>6</th>\n",
       "      <td>2.275078e-08</td>\n",
       "      <td>Total_Operating_Expenses</td>\n",
       "    </tr>\n",
       "    <tr>\n",
       "      <th>7</th>\n",
       "      <td>-2.913718e-07</td>\n",
       "      <td>Maintenance_Expense</td>\n",
       "    </tr>\n",
       "    <tr>\n",
       "      <th>8</th>\n",
       "      <td>-7.828527e-08</td>\n",
       "      <td>Taxes_Expense</td>\n",
       "    </tr>\n",
       "    <tr>\n",
       "      <th>9</th>\n",
       "      <td>-2.919159e-07</td>\n",
       "      <td>Insurance_Expense</td>\n",
       "    </tr>\n",
       "    <tr>\n",
       "      <th>10</th>\n",
       "      <td>2.285753e-07</td>\n",
       "      <td>Utilities_Expense</td>\n",
       "    </tr>\n",
       "    <tr>\n",
       "      <th>11</th>\n",
       "      <td>9.444207e-08</td>\n",
       "      <td>Payroll_Expense</td>\n",
       "    </tr>\n",
       "    <tr>\n",
       "      <th>12</th>\n",
       "      <td>-0.000000e+00</td>\n",
       "      <td>Property_Age</td>\n",
       "    </tr>\n",
       "  </tbody>\n",
       "</table>\n",
       "</div>"
      ],
      "text/plain": [
       "    LasoCoefficients                  features\n",
       "0       2.959103e-08               Loan_Amount\n",
       "1      -1.088985e-06                       Zip\n",
       "2      -1.360779e-08            Property_Value\n",
       "3       0.000000e+00                Year_Built\n",
       "4      -7.400854e-08      Net_Operating_Income\n",
       "5      -1.379409e-08    Effective_Gross_Income\n",
       "6       2.275078e-08  Total_Operating_Expenses\n",
       "7      -2.913718e-07       Maintenance_Expense\n",
       "8      -7.828527e-08             Taxes_Expense\n",
       "9      -2.919159e-07         Insurance_Expense\n",
       "10      2.285753e-07         Utilities_Expense\n",
       "11      9.444207e-08           Payroll_Expense\n",
       "12     -0.000000e+00              Property_Age"
      ]
     },
     "execution_count": 13,
     "metadata": {},
     "output_type": "execute_result"
    }
   ],
   "source": [
    "#The coefficients\n",
    "pd.DataFrame({'features': X.columns, 'LasoCoefficients': lasso.coef_})"
   ]
  },
  {
   "cell_type": "code",
   "execution_count": 14,
   "metadata": {
    "collapsed": true
   },
   "outputs": [],
   "source": [
    "X1 = pd.DataFrame(X[['Loan_Amount','Property_Value']])"
   ]
  },
  {
   "cell_type": "code",
   "execution_count": 15,
   "metadata": {},
   "outputs": [
    {
     "data": {
      "text/plain": [
       "((651, 2), (651,), (163, 2), (163,))"
      ]
     },
     "execution_count": 15,
     "metadata": {},
     "output_type": "execute_result"
    }
   ],
   "source": [
    "X1_train, X1_test, y1_train, y1_test = train_test_split(X1, y, test_size=.20, random_state=42) \n",
    "X1_train.shape , y1_train.shape,  X1_test.shape, y1_test.shape"
   ]
  },
  {
   "cell_type": "code",
   "execution_count": 16,
   "metadata": {},
   "outputs": [
    {
     "name": "stdout",
     "output_type": "stream",
     "text": [
      "Lasso Mean Squared error: 0.0214919726193\n",
      "Lasso R2 Score: 0.346562843906\n"
     ]
    }
   ],
   "source": [
    "# Instantiate a lasso regressor: lasso\n",
    "lasso = Lasso()\n",
    "# Fit the regressor to the data\n",
    "lasso.fit(X1_train, y1_train)\n",
    "predicted_lasso_y = lasso.predict(X1_test)\n",
    "print(\"Lasso Mean Squared error:\",mean_squared_error(y1_test, predicted_lasso_y))\n",
    "print(\"Lasso R2 Score:\",lasso.score(X1_test, y1_test))"
   ]
  },
  {
   "cell_type": "code",
   "execution_count": 17,
   "metadata": {},
   "outputs": [
    {
     "name": "stdout",
     "output_type": "stream",
     "text": [
      "Ridge Mean Squared error: 0.0206292595069\n",
      "Ridge R2 Score: 0.372792581523\n"
     ]
    }
   ],
   "source": [
    "# Instantiate a Ridge regressor\n",
    "ridg = Ridge()\n",
    "# Fit the regressor to the data\n",
    "ridg.fit(X_train, y_train)\n",
    "predicted_ridg_y = ridg.predict(X_test)\n",
    "print(\"Ridge Mean Squared error:\",mean_squared_error(y_test, predicted_ridg_y))\n",
    "print(\"Ridge R2 Score:\",ridg.score(X_test, y_test))"
   ]
  },
  {
   "cell_type": "markdown",
   "metadata": {
    "collapsed": true
   },
   "source": [
    "As I suspected, since **predictor variables are highly correlated** OLS models after applying L1 regularization(LASSO) or R2 regularization(Ridge) is not able to achieve the desired R2 score which was .37.\n",
    "\n",
    "**RandomForestRegressor** Model worked here with** R2 score 0.59**. I further tuned this using **RandomizedSearchCV and GridSearchCV** which improvised the **model R2 score to .73 and mse to 0.00 **\n",
    "\n",
    "I used** 3 fold cross validation** to validate the model.\n"
   ]
  },
  {
   "cell_type": "code",
   "execution_count": 18,
   "metadata": {},
   "outputs": [
    {
     "data": {
      "text/plain": [
       "0.59463758313459469"
      ]
     },
     "execution_count": 18,
     "metadata": {},
     "output_type": "execute_result"
    }
   ],
   "source": [
    "#Instantiate a Randomorest regressor: rfreg\n",
    "rfreg = RandomForestRegressor(random_state=42)\n",
    "rfreg.fit(X_train, y_train)\n",
    "rfreg.score(X_test, y_test)"
   ]
  },
  {
   "cell_type": "code",
   "execution_count": 19,
   "metadata": {},
   "outputs": [
    {
     "name": "stdout",
     "output_type": "stream",
     "text": [
      "Tuned Decision Tree Parameters: {'random_state': 42, 'n_estimators': 20, 'min_samples_leaf': 5, 'max_leaf_nodes': None, 'max_features': 'auto', 'max_depth': 5, 'criterion': 'mse'}\n",
      "Best score is 0.6502432723815043\n"
     ]
    }
   ],
   "source": [
    "# Parameter tuning with RandomizedSearchCV\n",
    "param_dist2 = {\"n_estimators\": [20,50,100],\n",
    "              \"max_depth\": [1,5,10,25, None],\n",
    "              \"criterion\": [\"mse\", \"mae\"],\n",
    "              \"max_features\":['auto', \"sqrt\"],\n",
    "              \"max_leaf_nodes\":[2,5,10,None],\n",
    "              \"min_samples_leaf\":[1,5,10,25],\n",
    "              \"random_state\":[42]}\n",
    "\n",
    "# Instantiate a Decision Tree classifier: tree\n",
    "RDtree = RandomForestRegressor()\n",
    "\n",
    "# Instantiate the RandomizedSearchCV object: tree_cv\n",
    "RDtree_cv = RandomizedSearchCV (RDtree, param_dist2, cv=5)\n",
    "\n",
    "# Fit it onto the data\n",
    "RDtree_cv.fit(X_train, y_train)\n",
    "\n",
    "# Print the tuned parameters and score\n",
    "print(\"Tuned Decision Tree Parameters: {}\".format(RDtree_cv.best_params_))\n",
    "print(\"Best score is {}\".format(RDtree_cv.best_score_))"
   ]
  },
  {
   "cell_type": "code",
   "execution_count": 20,
   "metadata": {},
   "outputs": [
    {
     "name": "stdout",
     "output_type": "stream",
     "text": [
      "Tuned Decision Tree Parameters: {'max_depth': 25, 'max_features': 'auto', 'min_samples_leaf': 1, 'n_estimators': 100, 'random_state': 42}\n",
      "Best score is 0.7643890864187429\n"
     ]
    }
   ],
   "source": [
    "# Parameter tuning with GridSearchCV\n",
    "param_dist2 = {\"n_estimators\": [100],\n",
    "              \"max_depth\": [10,25 ],\n",
    "              \"max_features\":[\"sqrt\",\"auto\" ],\n",
    "              \"min_samples_leaf\":[1,5],\n",
    "              \"random_state\":[42]}\n",
    "\n",
    "# Instantiate a Decision Tree classifier: tree\n",
    "RDtree = RandomForestRegressor()\n",
    "\n",
    "# Instantiate the RandomizedSearchCV object: tree_cv\n",
    "\n",
    "RDtree_cv = GridSearchCV(RDtree, param_dist2, cv=5)\n",
    "# Fit it to the data\n",
    "RDtree_cv.fit(X_train, y_train)\n",
    "\n",
    "# Print the tuned parameters and score\n",
    "print(\"Tuned Decision Tree Parameters: {}\".format(RDtree_cv.best_params_))\n",
    "print(\"Best score is {}\".format(RDtree_cv.best_score_))"
   ]
  },
  {
   "cell_type": "code",
   "execution_count": 21,
   "metadata": {
    "collapsed": true
   },
   "outputs": [],
   "source": [
    "#Initiate RandomForestRegressor with tuned parameters\n",
    "RandomForestReg= RandomForestRegressor(max_depth= 25, min_samples_leaf= 1, n_estimators= 100,  random_state=42)"
   ]
  },
  {
   "cell_type": "code",
   "execution_count": 22,
   "metadata": {},
   "outputs": [
    {
     "name": "stdout",
     "output_type": "stream",
     "text": [
      "RandomForestRegressor R2 ScoreR2 Score: 0.734982655973\n",
      "RandomForestRegressor mean squared error: -0.00805882588139\n"
     ]
    }
   ],
   "source": [
    "# 3 fold cross validation \n",
    "RandomForestReg.fit(X_train, y_train)\n",
    "RandomForestReg_score = cross_val_score(RandomForestReg , X_train, y_train, cv=3, scoring='r2').mean()\n",
    "RandomForestReg_mse = cross_val_score(RandomForestReg , X_train, y_train, cv=3, scoring='neg_mean_squared_error').mean()\n",
    "print(\"RandomForestRegressor R2 ScoreR2 Score:\",RandomForestReg_score)\n",
    "print(\"RandomForestRegressor mean squared error:\",RandomForestReg_mse)"
   ]
  },
  {
   "cell_type": "code",
   "execution_count": 23,
   "metadata": {},
   "outputs": [
    {
     "data": {
      "text/plain": [
       "<matplotlib.text.Text at 0xca6b080>"
      ]
     },
     "execution_count": 23,
     "metadata": {},
     "output_type": "execute_result"
    },
    {
     "data": {
      "image/png": "[encoded data removed]",
      "text/plain": [
       "<matplotlib.figure.Figure at 0xca597f0>"
      ]
     },
     "metadata": {},
     "output_type": "display_data"
    }
   ],
   "source": [
    "# Residual plot for RandomForest and Lasso\n",
    "pred_reg = RandomForestReg.predict(X_test)\n",
    "resd_RF = y_test-pred_reg # Residual of RandomForestRegressor\n",
    "resd_Lasso =y_test - predicted_lasso # Residual of Lasso\n",
    "sns.kdeplot(resd_RF, label='RandomForest')\n",
    "sns.kdeplot(resd_Lasso, label='Lasso')\n",
    "plt.title(\"Residual Distribution\")\n",
    "plt.xlabel('Residual')"
   ]
  },
  {
   "cell_type": "markdown",
   "metadata": {},
   "source": [
    "I would recommend using **tuned RandomForestRegressor** for the prediction of Loan to Value here. Accuracy of this model can further be improvised  by **treating the outliers**. Presence of outlier values in the training data affects the model accuracy. It leads to inaccurate predictions. This is because we don’t analyse the behavior and relationship with other variables correctly. So, treating the outliers can improvise the model accuracy.\n",
    "\n",
    "We can also **tune the hyperparameter** further for more accuracy."
   ]
  }
 ],
 "metadata": {
  "kernelspec": {
   "display_name": "Python 3",
   "language": "python",
   "name": "python3"
  },
  "language_info": {
   "codemirror_mode": {
    "name": "ipython",
    "version": 3
   },
   "file_extension": ".py",
   "mimetype": "text/x-python",
   "name": "python",
   "nbconvert_exporter": "python",
   "pygments_lexer": "ipython3",
   "version": "3.6.1"
  }
 },
 "nbformat": 4,
 "nbformat_minor": 2
}
